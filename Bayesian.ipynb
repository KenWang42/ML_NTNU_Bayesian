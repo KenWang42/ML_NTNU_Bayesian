{
 "cells": [
  {
   "cell_type": "code",
   "execution_count": 92,
   "metadata": {},
   "outputs": [],
   "source": [
    "import pandas as pd\n",
    "import numpy as np\n",
    "import matplotlib.pyplot as plt\n",
    "from sklearn.naive_bayes import GaussianNB\n",
    "import random"
   ]
  },
  {
   "cell_type": "code",
   "execution_count": 42,
   "metadata": {},
   "outputs": [],
   "source": [
    "df = pd.read_csv('songdata.csv')"
   ]
  },
  {
   "cell_type": "code",
   "execution_count": 43,
   "metadata": {},
   "outputs": [
    {
     "data": {
      "text/html": [
       "<div>\n",
       "<style scoped>\n",
       "    .dataframe tbody tr th:only-of-type {\n",
       "        vertical-align: middle;\n",
       "    }\n",
       "\n",
       "    .dataframe tbody tr th {\n",
       "        vertical-align: top;\n",
       "    }\n",
       "\n",
       "    .dataframe thead th {\n",
       "        text-align: right;\n",
       "    }\n",
       "</style>\n",
       "<table border=\"1\" class=\"dataframe\">\n",
       "  <thead>\n",
       "    <tr style=\"text-align: right;\">\n",
       "      <th></th>\n",
       "      <th>artist</th>\n",
       "      <th>song</th>\n",
       "      <th>link</th>\n",
       "      <th>text</th>\n",
       "    </tr>\n",
       "  </thead>\n",
       "  <tbody>\n",
       "    <tr>\n",
       "      <th>0</th>\n",
       "      <td>ABBA</td>\n",
       "      <td>Ahe's My Kind Of Girl</td>\n",
       "      <td>/a/abba/ahes+my+kind+of+girl_20598417.html</td>\n",
       "      <td>Look at her face, it's a wonderful face  \\nAnd...</td>\n",
       "    </tr>\n",
       "    <tr>\n",
       "      <th>1</th>\n",
       "      <td>ABBA</td>\n",
       "      <td>Andante, Andante</td>\n",
       "      <td>/a/abba/andante+andante_20002708.html</td>\n",
       "      <td>Take it easy with me, please  \\nTouch me gentl...</td>\n",
       "    </tr>\n",
       "    <tr>\n",
       "      <th>2</th>\n",
       "      <td>ABBA</td>\n",
       "      <td>As Good As New</td>\n",
       "      <td>/a/abba/as+good+as+new_20003033.html</td>\n",
       "      <td>I'll never know why I had to go  \\nWhy I had t...</td>\n",
       "    </tr>\n",
       "    <tr>\n",
       "      <th>3</th>\n",
       "      <td>ABBA</td>\n",
       "      <td>Bang</td>\n",
       "      <td>/a/abba/bang_20598415.html</td>\n",
       "      <td>Making somebody happy is a question of give an...</td>\n",
       "    </tr>\n",
       "    <tr>\n",
       "      <th>4</th>\n",
       "      <td>ABBA</td>\n",
       "      <td>Bang-A-Boomerang</td>\n",
       "      <td>/a/abba/bang+a+boomerang_20002668.html</td>\n",
       "      <td>Making somebody happy is a question of give an...</td>\n",
       "    </tr>\n",
       "    <tr>\n",
       "      <th>5</th>\n",
       "      <td>ABBA</td>\n",
       "      <td>Burning My Bridges</td>\n",
       "      <td>/a/abba/burning+my+bridges_20003011.html</td>\n",
       "      <td>Well, you hoot and you holler and you make me ...</td>\n",
       "    </tr>\n",
       "    <tr>\n",
       "      <th>6</th>\n",
       "      <td>ABBA</td>\n",
       "      <td>Cassandra</td>\n",
       "      <td>/a/abba/cassandra_20002811.html</td>\n",
       "      <td>Down in the street they're all singing and sho...</td>\n",
       "    </tr>\n",
       "    <tr>\n",
       "      <th>7</th>\n",
       "      <td>ABBA</td>\n",
       "      <td>Chiquitita</td>\n",
       "      <td>/a/abba/chiquitita_20002978.html</td>\n",
       "      <td>Chiquitita, tell me what's wrong  \\nYou're enc...</td>\n",
       "    </tr>\n",
       "    <tr>\n",
       "      <th>8</th>\n",
       "      <td>ABBA</td>\n",
       "      <td>Crazy World</td>\n",
       "      <td>/a/abba/crazy+world_20003013.html</td>\n",
       "      <td>I was out with the morning sun  \\nCouldn't sle...</td>\n",
       "    </tr>\n",
       "    <tr>\n",
       "      <th>9</th>\n",
       "      <td>ABBA</td>\n",
       "      <td>Crying Over You</td>\n",
       "      <td>/a/abba/crying+over+you_20177611.html</td>\n",
       "      <td>I'm waitin' for you baby  \\nI'm sitting all al...</td>\n",
       "    </tr>\n",
       "  </tbody>\n",
       "</table>\n",
       "</div>"
      ],
      "text/plain": [
       "  artist                   song                                        link  \\\n",
       "0   ABBA  Ahe's My Kind Of Girl  /a/abba/ahes+my+kind+of+girl_20598417.html   \n",
       "1   ABBA       Andante, Andante       /a/abba/andante+andante_20002708.html   \n",
       "2   ABBA         As Good As New        /a/abba/as+good+as+new_20003033.html   \n",
       "3   ABBA                   Bang                  /a/abba/bang_20598415.html   \n",
       "4   ABBA       Bang-A-Boomerang      /a/abba/bang+a+boomerang_20002668.html   \n",
       "5   ABBA     Burning My Bridges    /a/abba/burning+my+bridges_20003011.html   \n",
       "6   ABBA              Cassandra             /a/abba/cassandra_20002811.html   \n",
       "7   ABBA             Chiquitita            /a/abba/chiquitita_20002978.html   \n",
       "8   ABBA            Crazy World           /a/abba/crazy+world_20003013.html   \n",
       "9   ABBA        Crying Over You       /a/abba/crying+over+you_20177611.html   \n",
       "\n",
       "                                                text  \n",
       "0  Look at her face, it's a wonderful face  \\nAnd...  \n",
       "1  Take it easy with me, please  \\nTouch me gentl...  \n",
       "2  I'll never know why I had to go  \\nWhy I had t...  \n",
       "3  Making somebody happy is a question of give an...  \n",
       "4  Making somebody happy is a question of give an...  \n",
       "5  Well, you hoot and you holler and you make me ...  \n",
       "6  Down in the street they're all singing and sho...  \n",
       "7  Chiquitita, tell me what's wrong  \\nYou're enc...  \n",
       "8  I was out with the morning sun  \\nCouldn't sle...  \n",
       "9  I'm waitin' for you baby  \\nI'm sitting all al...  "
      ]
     },
     "execution_count": 43,
     "metadata": {},
     "output_type": "execute_result"
    }
   ],
   "source": [
    "df.head(10)"
   ]
  },
  {
   "cell_type": "code",
   "execution_count": 44,
   "metadata": {},
   "outputs": [],
   "source": [
    "df = df.drop(['link'], axis=1)"
   ]
  },
  {
   "cell_type": "code",
   "execution_count": 45,
   "metadata": {},
   "outputs": [],
   "source": [
    "df = df.loc[df['artist'] == 'The Beatles']"
   ]
  },
  {
   "cell_type": "code",
   "execution_count": 46,
   "metadata": {},
   "outputs": [
    {
     "data": {
      "text/html": [
       "<div>\n",
       "<style scoped>\n",
       "    .dataframe tbody tr th:only-of-type {\n",
       "        vertical-align: middle;\n",
       "    }\n",
       "\n",
       "    .dataframe tbody tr th {\n",
       "        vertical-align: top;\n",
       "    }\n",
       "\n",
       "    .dataframe thead th {\n",
       "        text-align: right;\n",
       "    }\n",
       "</style>\n",
       "<table border=\"1\" class=\"dataframe\">\n",
       "  <thead>\n",
       "    <tr style=\"text-align: right;\">\n",
       "      <th></th>\n",
       "      <th>artist</th>\n",
       "      <th>song</th>\n",
       "      <th>text</th>\n",
       "    </tr>\n",
       "  </thead>\n",
       "  <tbody>\n",
       "    <tr>\n",
       "      <th>1198</th>\n",
       "      <td>The Beatles</td>\n",
       "      <td>A Shot Of Rhythm And Blues</td>\n",
       "      <td>Well, if your hands start a-clappin'  \\nAnd yo...</td>\n",
       "    </tr>\n",
       "    <tr>\n",
       "      <th>1199</th>\n",
       "      <td>The Beatles</td>\n",
       "      <td>Across The Universe</td>\n",
       "      <td>Words are flowing out like  \\nEndless rain int...</td>\n",
       "    </tr>\n",
       "    <tr>\n",
       "      <th>1200</th>\n",
       "      <td>The Beatles</td>\n",
       "      <td>All I've Got To Do</td>\n",
       "      <td>Whenever I want you around, yeah  \\nAll I gott...</td>\n",
       "    </tr>\n",
       "    <tr>\n",
       "      <th>1201</th>\n",
       "      <td>The Beatles</td>\n",
       "      <td>And I Love Her</td>\n",
       "      <td>I give her all my love  \\nThat's all I do  \\nA...</td>\n",
       "    </tr>\n",
       "    <tr>\n",
       "      <th>1202</th>\n",
       "      <td>The Beatles</td>\n",
       "      <td>And Your Bird Can Sing</td>\n",
       "      <td>You tell me that you've got everything you wan...</td>\n",
       "    </tr>\n",
       "  </tbody>\n",
       "</table>\n",
       "</div>"
      ],
      "text/plain": [
       "           artist                        song  \\\n",
       "1198  The Beatles  A Shot Of Rhythm And Blues   \n",
       "1199  The Beatles         Across The Universe   \n",
       "1200  The Beatles          All I've Got To Do   \n",
       "1201  The Beatles              And I Love Her   \n",
       "1202  The Beatles      And Your Bird Can Sing   \n",
       "\n",
       "                                                   text  \n",
       "1198  Well, if your hands start a-clappin'  \\nAnd yo...  \n",
       "1199  Words are flowing out like  \\nEndless rain int...  \n",
       "1200  Whenever I want you around, yeah  \\nAll I gott...  \n",
       "1201  I give her all my love  \\nThat's all I do  \\nA...  \n",
       "1202  You tell me that you've got everything you wan...  "
      ]
     },
     "execution_count": 46,
     "metadata": {},
     "output_type": "execute_result"
    }
   ],
   "source": [
    "df.head(5)"
   ]
  },
  {
   "cell_type": "code",
   "execution_count": 47,
   "metadata": {},
   "outputs": [
    {
     "data": {
      "text/html": [
       "<div>\n",
       "<style scoped>\n",
       "    .dataframe tbody tr th:only-of-type {\n",
       "        vertical-align: middle;\n",
       "    }\n",
       "\n",
       "    .dataframe tbody tr th {\n",
       "        vertical-align: top;\n",
       "    }\n",
       "\n",
       "    .dataframe thead th {\n",
       "        text-align: right;\n",
       "    }\n",
       "</style>\n",
       "<table border=\"1\" class=\"dataframe\">\n",
       "  <thead>\n",
       "    <tr style=\"text-align: right;\">\n",
       "      <th></th>\n",
       "      <th>text</th>\n",
       "    </tr>\n",
       "  </thead>\n",
       "  <tbody>\n",
       "    <tr>\n",
       "      <th>1198</th>\n",
       "      <td>Well, if your hands start a-clappin'  \\nAnd yo...</td>\n",
       "    </tr>\n",
       "    <tr>\n",
       "      <th>1199</th>\n",
       "      <td>Words are flowing out like  \\nEndless rain int...</td>\n",
       "    </tr>\n",
       "    <tr>\n",
       "      <th>1200</th>\n",
       "      <td>Whenever I want you around, yeah  \\nAll I gott...</td>\n",
       "    </tr>\n",
       "    <tr>\n",
       "      <th>1201</th>\n",
       "      <td>I give her all my love  \\nThat's all I do  \\nA...</td>\n",
       "    </tr>\n",
       "    <tr>\n",
       "      <th>1202</th>\n",
       "      <td>You tell me that you've got everything you wan...</td>\n",
       "    </tr>\n",
       "  </tbody>\n",
       "</table>\n",
       "</div>"
      ],
      "text/plain": [
       "                                                   text\n",
       "1198  Well, if your hands start a-clappin'  \\nAnd yo...\n",
       "1199  Words are flowing out like  \\nEndless rain int...\n",
       "1200  Whenever I want you around, yeah  \\nAll I gott...\n",
       "1201  I give her all my love  \\nThat's all I do  \\nA...\n",
       "1202  You tell me that you've got everything you wan..."
      ]
     },
     "execution_count": 47,
     "metadata": {},
     "output_type": "execute_result"
    }
   ],
   "source": [
    "df = df.drop(['artist'], axis=1)\n",
    "df = df.drop(['song'], axis=1)\n",
    "df.head(5)"
   ]
  },
  {
   "cell_type": "code",
   "execution_count": 115,
   "metadata": {},
   "outputs": [],
   "source": [
    "df = df.reset_index(drop=True)\n",
    "dfTemp = df\n",
    "lyrics = ''\n",
    "for i in dfTemp.text:\n",
    "    lyrics = lyrics + i"
   ]
  },
  {
   "cell_type": "code",
   "execution_count": 116,
   "metadata": {},
   "outputs": [
    {
     "name": "stdout",
     "output_type": "stream",
     "text": [
      "['find', 'da', 'loves', 'i', 'never', 'its', 'aint', 'we', 'keeps', 'friend']\n"
     ]
    },
    {
     "data": {
      "text/plain": [
       "30672"
      ]
     },
     "execution_count": 116,
     "metadata": {},
     "output_type": "execute_result"
    }
   ],
   "source": [
    "for c in ['.',',','?',';','!','\\'','\\n']:\n",
    "    lyrics = lyrics.replace(c, '')\n",
    "\n",
    "words = lyrics.lower().split()\n",
    "print(random.sample(words, 10))\n",
    "len(words)"
   ]
  },
  {
   "cell_type": "code",
   "execution_count": 139,
   "metadata": {},
   "outputs": [],
   "source": [
    "def createMarkovChain(words, prev = None):\n",
    "    markovChain = dict()\n",
    "    total = len(words)\n",
    "    for w in words:\n",
    "        if w not in markovChain:\n",
    "            markovChain[w] = [dict(), 0]\n",
    "        if prev:\n",
    "            if w not in markovChain[prev][0]:\n",
    "                markovChain[prev][0][w] = 0\n",
    "            \n",
    "            markovChain[prev][0][w] = markovChain[prev][0][w] + 1\n",
    "            markovChain[prev][1] = markovChain[prev][1] + 1\n",
    "        prev = w\n",
    "        \n",
    "    for w in markovChain:\n",
    "        succWords = markovChain[w][1]\n",
    "        markovChain[w] = [markovChain[w][0], markovChain[w][1] / total]\n",
    "        for s in markovChain[w][0]:\n",
    "            markovChain[w][0][s] = markovChain[w][0][s] / succWords\n",
    "    return markovChain"
   ]
  },
  {
   "cell_type": "code",
   "execution_count": 140,
   "metadata": {},
   "outputs": [],
   "source": [
    "mc = createMarkovChain(words)"
   ]
  },
  {
   "cell_type": "code",
   "execution_count": 141,
   "metadata": {},
   "outputs": [
    {
     "name": "stdout",
     "output_type": "stream",
     "text": [
      "Words: 'well'\n",
      " Next: [{'if': 0.050314465408805034, 'with': 0.018867924528301886, 'heres': 0.050314465408805034, 'ive': 0.031446540880503145, 'its': 0.012578616352201259, 'be': 0.018867924528301886, 'you': 0.11949685534591195, 'blue': 0.006289308176100629, 'i': 0.16352201257861634, 'come': 0.012578616352201259, 'well': 0.07547169811320754, 'your': 0.012578616352201259, 'hell': 0.012578616352201259, 'stop': 0.006289308176100629, 'we': 0.012578616352201259, 'do': 0.012578616352201259, 'shes': 0.012578616352201259, 'that': 0.012578616352201259, 'mrdog': 0.012578616352201259, 'have': 0.012578616352201259, 'im': 0.006289308176100629, 'lucille': 0.006289308176100629, 'make': 0.012578616352201259, 'ill': 0.012578616352201259, 'see': 0.018867924528301886, 'look': 0.012578616352201259, 'dont': 0.018867924528301886, 'the': 0.012578616352201259, 'he': 0.012578616352201259, 'this': 0.006289308176100629, 'mamas': 0.006289308176100629, 'she': 0.012578616352201259, 'now': 0.012578616352201259, 'thank': 0.006289308176100629, 'what': 0.006289308176100629, 'half': 0.006289308176100629, 'they': 0.006289308176100629, 'hot': 0.006289308176100629, 'acquainted': 0.006289308176100629, 'honey': 0.03773584905660377, 'sometimes': 0.006289308176100629, 'ever': 0.006289308176100629, 'my': 0.025157232704402517, 'then': 0.006289308176100629, 'try': 0.006289308176100629, 'theres': 0.006289308176100629, 'resign': 0.006289308176100629, 'but': 0.006289308176100629, 'his': 0.006289308176100629, 'long': 0.006289308176100629, 'were': 0.006289308176100629, 'los': 0.006289308176100629, 'go': 0.006289308176100629, 'let': 0.006289308176100629}, 0.0051838810641627545]\n",
      "Words: 'if'\n",
      " Next: [{'your': 0.02, 'you': 0.38, 'the': 0.04, 'youre': 0.02666666666666667, 'i': 0.2866666666666667, 'it': 0.04, 'he': 0.013333333333333334, 'they': 0.013333333333333334, 'somebody': 0.02, 'im': 0.02, 'theres': 0.04, 'its': 0.013333333333333334, 'she': 0.02, 'shes': 0.013333333333333334, 'our': 0.006666666666666667, 'youve': 0.013333333333333334, 'youll': 0.03333333333333333}, 0.004890453834115806]\n",
      "Words: 'your'\n",
      " Next: [{'hands': 0.03861003861003861, 'fingers': 0.003861003861003861, 'feet': 0.015444015444015444, 'lover': 0.03861003861003861, 'side': 0.011583011583011582, 'ear': 0.011583011583011582, 'bird': 0.011583011583011582, 'prized': 0.003861003861003861, 'money': 0.007722007722007722, 'birthday': 0.023166023166023165, 'life': 0.015444015444015444, 'heart': 0.05791505791505792, 'car': 0.003861003861003861, 'hat': 0.003861003861003861, 'foot': 0.003861003861003861, 'little': 0.015444015444015444, 'mama': 0.015444015444015444, 'brother': 0.003861003861003861, 'a': 0.007722007722007722, 'down': 0.003861003861003861, 'feeling': 0.007722007722007722, 'mind': 0.02702702702702703, 'day': 0.003861003861003861, 'head': 0.04247104247104247, 'sisters': 0.015444015444015444, 'first': 0.003861003861003861, 'eyes': 0.04247104247104247, 'ring': 0.003861003861003861, 'snow': 0.003861003861003861, 'daddys': 0.003861003861003861, 'balalaikas': 0.003861003861003861, 'comrade': 0.003861003861003861, 'lips': 0.007722007722007722, 'film': 0.003861003861003861, 'mother': 0.02702702702702703, 'romance': 0.003861003861003861, 'footsteps': 0.007722007722007722, 'knock': 0.003861003861003861, 'hair': 0.003861003861003861, 'love': 0.011583011583011582, 'inside': 0.007722007722007722, 'outside': 0.007722007722007722, 'rules': 0.003861003861003861, 'touch': 0.003861003861003861, 'boy': 0.003861003861003861, 'own': 0.003861003861003861, 'trigger': 0.003861003861003861, 'way': 0.007722007722007722, 'eye': 0.003861003861003861, 'sweaty': 0.003861003861003861, 'fears': 0.003861003861003861, 'skin': 0.007722007722007722, 'shoulders': 0.003861003861003861, 'shoulder': 0.003861003861003861, 'clothes': 0.003861003861003861, 'hollywood': 0.003861003861003861, 'face': 0.011583011583011582, 'knickers': 0.003861003861003861, 'name': 0.02702702702702703, 'namei': 0.003861003861003861, 'man': 0.08108108108108109, 'manoh': 0.003861003861003861, 'hand': 0.05019305019305019, 'handi': 0.003861003861003861, 'song': 0.003861003861003861, 'number': 0.023166023166023165, 'troubles': 0.015444015444015444, 'troubled': 0.003861003861003861, 'lovin': 0.011583011583011582, 'papa': 0.007722007722007722, 'voice': 0.003861003861003861, 'door': 0.015444015444015444, 'music': 0.003861003861003861, 'hands)': 0.023166023166023165, 'breast': 0.003861003861003861, 'comb': 0.011583011583011582, 'mammie': 0.003861003861003861, 'pappie': 0.003861003861003861, 'kiss': 0.011583011583011582, 'big': 0.011583011583011582, 'puppy': 0.003861003861003861, 'beam': 0.003861003861003861, 'pantry': 0.003861003861003861, 'cupcakes': 0.003861003861003861, 'window': 0.003861003861003861, 'vest': 0.003861003861003861, 'ageing': 0.003861003861003861, 'loving': 0.003861003861003861, 'command': 0.007722007722007722, 'time': 0.003861003861003861, 'smile': 0.003861003861003861, 'to': 0.003861003861003861}, 0.008444183620239958]\n",
      "Words: 'hands'\n",
      " Next: [{'start': 0.06666666666666667, 'amoving': 0.06666666666666667, 'as': 0.06666666666666667, 'are': 0.06666666666666667, 'some': 0.06666666666666667, 'if': 0.06666666666666667, 'to': 0.06666666666666667, '(keep': 0.3333333333333333, '(off': 0.06666666666666667, 'off': 0.13333333333333333}, 0.0004890453834115806]\n",
      "Words: 'start'\n",
      " Next: [{'a-clappin': 0.05, 'a-poppin': 0.05, 'a-movin': 0.05, 'to': 0.6, 'right': 0.05, 'baby': 0.05, 'that': 0.05, 'my': 0.05, 'im': 0.05}, 0.0006520605112154408]\n",
      "Words: 'a-clappin'\n",
      " Next: [{'and': 1.0}, 3.260302556077204e-05]\n",
      "Words: 'and'\n",
      " Next: [{'your': 0.006872852233676976, 'if': 0.02577319587628866, 'sway': 0.001718213058419244, 'you': 0.022336769759450172, 'blues': 0.006872852233676976, 'roll': 0.010309278350515464, 'sing': 0.010309278350515464, 'chills': 0.005154639175257732, 'the': 0.029209621993127148, 'caressing': 0.001718213058419244, 'on': 0.005154639175257732, 'inviting': 0.001718213058419244, 'youll': 0.006872852233676976, 'when': 0.027491408934707903, 'ill': 0.037800687285223365, 'tenderly': 0.001718213058419244, 'i': 0.1323024054982818, 'ive': 0.006872852233676976, 'so': 0.015463917525773196, 'thin': 0.005154639175257732, 'sad': 0.001718213058419244, 'its': 0.010309278350515464, 'in': 0.015463917525773196, 'im': 0.02577319587628866, 'have': 0.003436426116838488, 'learn': 0.006872852233676976, 'my': 0.013745704467353952, 'id': 0.005154639175257732, 'dont': 0.005154639175257732, 'day': 0.006872852233676976, 'shout': 0.005154639175257732, 'day[speech]': 0.001718213058419244, 'starts': 0.001718213058419244, 'me': 0.012027491408934709, 'now': 0.018900343642611683, 'a-rolling': 0.005154639175257732, 'tell': 0.005154639175257732, 'hide': 0.005154639175257732, 'better': 0.003436426116838488, 'doesnt': 0.001718213058419244, 'yet': 0.001718213058419244, 'canisters': 0.001718213058419244, 'fishops': 0.001718213058419244, 'rabbis': 0.001718213058419244, 'pop': 0.001718213058419244, 'bye': 0.001718213058419244, 'yoko': 0.001718213058419244, 'then': 0.015463917525773196, 'night': 0.001718213058419244, 'lonely': 0.015463917525773196, 'married': 0.003436426116838488, 'shell': 0.001718213058419244, 'he': 0.005154639175257732, 'just': 0.001718213058419244, 'though': 0.010309278350515464, 'stared': 0.001718213058419244, 'drank': 0.001718213058419244, 'looking': 0.001718213058419244, 'grabbed': 0.001718213058419244, 'had': 0.003436426116838488, 'swinging': 0.001718213058419244, 'really': 0.001718213058419244, 'youtheyre': 0.001718213058419244, 'all': 0.006872852233676976, 'see': 0.006872852233676976, 'beggin': 0.001718213058419244, 'hope': 0.001718213058419244, 'has': 0.001718213058419244, 'must': 0.001718213058419244, 'face': 0.001718213058419244, 'blue': 0.001718213058419244, 'ask': 0.001718213058419244, 'leaves': 0.003436426116838488, 'cry': 0.015463917525773196, 'moscow': 0.003436426116838488, 'keep': 0.00859106529209622, 'looks': 0.001718213058419244, 'write': 0.001718213058419244, 'plays': 0.001718213058419244, 'get': 0.015463917525773196, 'only': 0.005154639175257732, 'horses': 0.001718213058419244, 'garters': 0.001718213058419244, 'h': 0.001718213058419244, 'of': 0.001718213058419244, 'mr': 0.001718213058419244, 'tonight': 0.001718213058419244, 'they': 0.00859106529209622, 'fades': 0.001718213058419244, 'a': 0.003436426116838488, 'his': 0.005154639175257732, 'one': 0.003436426116838488, 'thehands': 0.001718213058419244, 'arriving': 0.001718213058419244, 'bee': 0.001718213058419244, 'says': 0.001718213058419244, 'ooh': 0.001718213058419244, 'weve': 0.001718213058419244, 'from': 0.006872852233676976, 'why': 0.001718213058419244, 'maybe': 0.018900343642611683, 'she': 0.018900343642611683, 'thats': 0.001718213058419244, 'was': 0.001718213058419244, 'stops': 0.003436426116838488, 'kept': 0.005154639175257732, 'it': 0.003436426116838488, 'never': 0.005154639175257732, 'wonder': 0.001718213058419244, 'lovely': 0.006872852233676976, 'dry': 0.003436426116838488, 'start': 0.001718213058419244, 'shes': 0.003436426116838488, 'youre': 0.003436426116838488, 'meet': 0.001718213058419244, 'suddenly': 0.001718213058419244, 'there': 0.001718213058419244, 'donated': 0.001718213058419244, 'love': 0.003436426116838488, 'make': 0.005154639175257732, 'anytime': 0.001718213058419244, 'let': 0.001718213058419244, 'show': 0.003436426116838488, 'we': 0.005154639175257732, 'look': 0.003436426116838488, 'shook': 0.001718213058419244, 'feeling': 0.001718213058419244, 'before': 0.001718213058419244, 'please': 0.001718213058419244, 'forever': 0.001718213058419244, 'help': 0.001718213058419244, 'that': 0.00859106529209622, 'die': 0.005154639175257732, 'dieif': 0.001718213058419244, 'ringsohh': 0.001718213058419244, 'count': 0.003436426116838488, 'golden': 0.003436426116838488, 'theres': 0.001718213058419244, 'more': 0.006872852233676976, 'understand': 0.001718213058419244, 'after': 0.003436426116838488, 'staring': 0.001718213058419244, 'fix': 0.001718213058419244, 'curse': 0.001718213058419244, 'no': 0.001718213058419244, 'some': 0.003436426116838488, 'friends': 0.001718213058419244, 'lovers': 0.001718213058419244, 'these': 0.001718213058419244, 'things': 0.003436426116838488, 'think': 0.003436426116838488, 'what': 0.001718213058419244, 'soon': 0.001718213058419244, 'lank': 0.001718213058419244, 'crack': 0.001718213058419244, 'wood': 0.001718213058419244, 'a-playing': 0.001718213058419244, 'say': 0.005154639175257732, 'such': 0.001718213058419244, 'join': 0.003436426116838488, 'whenever': 0.001718213058419244, 'as': 0.003436426116838488, 'off': 0.001718213058419244, 'pulls': 0.001718213058419244, 'out': 0.003436426116838488, 'tried': 0.001718213058419244, 'over': 0.001718213058419244, 'rita': 0.001718213058419244, 'marmalade': 0.001718213058419244, 'green': 0.001718213058419244, 'bees': 0.001718213058419244, 'pray': 0.005154639175257732, 'heres': 0.001718213058419244, 'gone': 0.001718213058419244, 'started': 0.001718213058419244, 'crawled': 0.001718213058419244, 'every': 0.001718213058419244, 'go': 0.001718213058419244, 'toes': 0.001718213058419244, 'threw': 0.003436426116838488, 'molly': 0.005154639175257732, 'does': 0.003436426116838488, 'dance': 0.001718213058419244, 'swim': 0.001718213058419244, 'boy': 0.001718213058419244, 'theyre': 0.003436426116838488, 'cried': 0.005154639175257732, 'died': 0.001718213058419244}, 0.018974960876369327]\n",
      "Words: 'fingers'\n",
      " Next: [{'start': 1.0}, 3.260302556077204e-05]\n",
      "Words: 'a-poppin'\n",
      " Next: [{'and': 1.0}, 3.260302556077204e-05]\n",
      "Words: 'feet'\n",
      " Next: [{'start': 0.09090909090909091, 'back': 0.2727272727272727, 'are': 0.09090909090909091, 'down': 0.09090909090909091, 'as': 0.09090909090909091, 'so': 0.09090909090909091, 'i': 0.09090909090909091, 'wonder': 0.18181818181818182}, 0.0003586332811684924]\n"
     ]
    }
   ],
   "source": [
    "cnt = 10\n",
    "for k in mc:\n",
    "    print('Words: \\'%s\\'\\n' % k, 'Next:', mc[k])\n",
    "    cnt = cnt - 1\n",
    "    if cnt <= 0:\n",
    "        break"
   ]
  },
  {
   "cell_type": "code",
   "execution_count": null,
   "metadata": {},
   "outputs": [],
   "source": []
  },
  {
   "cell_type": "code",
   "execution_count": 142,
   "metadata": {},
   "outputs": [],
   "source": [
    "def createSong(markovChain, length = 240, start = None):\n",
    "    song = ''\n",
    "    curr = start\n",
    "    for cnt in range(length):\n",
    "        if not curr:\n",
    "            r = random.random()\n",
    "            csum = 0.0\n",
    "            for w in markovChain:\n",
    "                curr = w\n",
    "                csum = csum + markovChain[w][1]\n",
    "                if (r < csum):\n",
    "                    break\n",
    "            song = song + ' ' + curr\n",
    "        r = random.random()\n",
    "        csum = 0.0\n",
    "        for succ in markovChain[curr][0]:\n",
    "            newWords = succ\n",
    "            csum = csum + markovChain[curr][0][succ]\n",
    "            if (r < csum):\n",
    "                break\n",
    "        song = song + ' ' + succ\n",
    "        curr = succ\n",
    "    return song"
   ]
  },
  {
   "cell_type": "code",
   "execution_count": 145,
   "metadata": {},
   "outputs": [
    {
     "data": {
      "text/plain": [
       "' a feeling you leave me tonight di-di-di-dindi falling and get in all you go dont let you go soon miss lizzy girl girl and start my feet back get back my baby youre thinking of course henry the brand new year evrybody put their foot dont ya know he please come up roll up to you dr robertyour day not always be my life would rather small they said goodbye hello hello\" i got a dog till i needed someone to me just for every way that you know how they said i aint she acts as i love love you was a thing to i want me cry over your hands) off my) when you feel glad its lonely you every single day sunshine good night on me she really sorry that love with a falling and im nobodys childi read the middle of it seems that is up she keeps calling me love with your mother mary comes near a birthday well your fears you can you came just the boys now all together now hes a loser and its just a number but im doing the end through the ocean my woman way and have a little girl who came here id like to see oh ho you ever hit the paper sleeps in the moment by making his nowhere land making all the queen was a big brown brown brown yellow and im by myself i feel'"
      ]
     },
     "execution_count": 145,
     "metadata": {},
     "output_type": "execute_result"
    }
   ],
   "source": [
    "s = createSong(mc)\n",
    "s"
   ]
  },
  {
   "cell_type": "code",
   "execution_count": null,
   "metadata": {},
   "outputs": [],
   "source": []
  },
  {
   "cell_type": "code",
   "execution_count": null,
   "metadata": {},
   "outputs": [],
   "source": []
  }
 ],
 "metadata": {
  "kernelspec": {
   "display_name": "Python 3",
   "language": "python",
   "name": "python3"
  },
  "language_info": {
   "codemirror_mode": {
    "name": "ipython",
    "version": 3
   },
   "file_extension": ".py",
   "mimetype": "text/x-python",
   "name": "python",
   "nbconvert_exporter": "python",
   "pygments_lexer": "ipython3",
   "version": "3.7.2"
  }
 },
 "nbformat": 4,
 "nbformat_minor": 2
}
